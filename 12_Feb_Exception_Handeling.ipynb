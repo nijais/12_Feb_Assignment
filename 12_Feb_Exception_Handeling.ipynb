{
 "cells": [
  {
   "cell_type": "markdown",
   "id": "5b81ee4f-da80-42b7-9e8b-71495d2619d3",
   "metadata": {},
   "source": [
    "# Q1. What is an Exception in python? Write the difference between Exceptions and syntax errors.\n",
    "\n",
    "#### A Python program terminates as soon as it encounters an error. In Python, an error can be a syntax error or an exception. An exception is an event, which occurs during the execution of a program that disrupts the normal flow of the program's instructions. In general, when a Python script encounters a situation that it cannot cope with, it raises an exception. An exception is a Python object that represents an error.\n",
    "#### When a Python script raises an exception, it must either handle the exception immediately otherwise it terminates and quits.\n",
    "\n",
    "#### Python provides a way to handle the exception so that the code can be executed without any interruption. If you have some suspicious code that may raise an exception, you can defend your program by placing the suspicious code in a try block.\n",
    "\n",
    "#### The difference between exceptions and syntax errors is that syntax errors are detected by the Python interpreter before the program runs, while exceptions are raised during the program execution. Syntax errors are caused by the use of wrong syntax in the code, such as missing a colon or a parenthesis. Exceptions are caused by the code resulting in an error even when the code is syntactically correct, such as dividing a number by zero or accessing a non-existent file. Syntax errors prevent the program from running, while exceptions can be handled by the program using the try and except statements"
   ]
  },
  {
   "cell_type": "code",
   "execution_count": null,
   "id": "b41d46e3-d276-4373-aa4e-d9f09910717c",
   "metadata": {},
   "outputs": [],
   "source": []
  },
  {
   "cell_type": "markdown",
   "id": "fefe8d46-c7be-4645-8f92-1473eae511f2",
   "metadata": {},
   "source": [
    "# Q2. What happens when an exception is not handled. Explain with an example.\n",
    "\n",
    "#### When an exception occurs in Python, if it is not handled by the program, it causes the program to terminate abruptly and the code after the line that caused the exception will not get executed. This can lead to a loss of data or an unexpected behavior of the program. To prevent this, we can use the try and except statements to catch and handle the exceptions in Python.\n",
    "\n",
    "a = [0,1,2,3,4]\n",
    "print(a[5]) # This will cause an index error\n",
    "print('This line should be executed') # This line of code will not get executed coz exception occure in above line and it's handled."
   ]
  },
  {
   "cell_type": "code",
   "execution_count": null,
   "id": "e7a934e2-b971-4498-91b9-d44da123a5c0",
   "metadata": {},
   "outputs": [],
   "source": []
  },
  {
   "cell_type": "markdown",
   "id": "3ccf32c1-78ad-4fe3-8f54-ff24597f69cd",
   "metadata": {},
   "source": [
    "# Q3. Which python statements are used to catch and handle exception? Explain with an example.\n",
    "\n",
    "#### The try and except statements are used to catch and handle exceptions in Python.The try and except block of code in Python is used to run a block of code that can raise an exception and handle the exception if it occurs.\n",
    "#### The try block contains the statements that can raise an exception, and the except block contains the statements that handle the exception.\n",
    "#### The except block can specify the type of exception to catch, and assign it to a variable (e) for further processing. If the try block does not raise an exception, the except block is skipped.\n",
    "try:\n",
    "    a = [0,1,2,3,4]\n",
    "    print(a[5]) # This will cause an index error\n",
    "except IndexError as e:\n",
    "    print('This line should be executed if try block raise an exception', e) "
   ]
  },
  {
   "cell_type": "code",
   "execution_count": null,
   "id": "00a7d823-645d-4256-bdcb-77653085c075",
   "metadata": {},
   "outputs": [],
   "source": []
  },
  {
   "cell_type": "markdown",
   "id": "87a50fee-f470-442e-b04c-d13e2635b161",
   "metadata": {},
   "source": [
    "# Q4. Explain with an example \n",
    "# a. try and else\n",
    "# b. finally\n",
    "# c. raise\n",
    "\n",
    "#### a. try and else: The try and else statements are used in Python for flow control. An Exception, also known as run time error, is an event which occurs during the execution of a Python program. The try block contains the statements that can raise an exception, and the else block contains the statements that execute if no exception occurs in the try block. The else block executes after the try block and before the finally block.\n",
    "\n",
    "try:\n",
    "    x = int(input(\"Enter a number: \"))\n",
    "except ValueError:\n",
    "    print(\"Invalid input\")\n",
    "else:\n",
    "    print(\"The number is\", x)\n",
    "    \n",
    "#### output- Enter a number: 682 \n",
    "#### The number is 682\n",
    "#### output- Enter a number: nimish\n",
    "#### Invalid input\n",
    "\n",
    "#### b. finally: The finally statement is used in Python to do clean-up activities that must be executed regardless of whether an exception occurs or not. The finally block always executes after the try and except blocks, even if the try block returns, breaks, or continues. The finally block is useful for releasing resources such as files, sockets, or database connections. \n",
    "try:\n",
    "    f = open ('file1.txt','w')\n",
    "    f.read('Hello this is nimish here')\n",
    "except Exception as e:\n",
    "    print('there is some issue with my code:',e)\n",
    "finally:\n",
    "    print('this block will execute always')\n",
    "#### output : there is some issue with my code: argument should be integer or None, not 'str'\n",
    "#### this block will execute always\n",
    "\n",
    "\n",
    "#### c. raise: The raise keyword is used in Python to raise exceptions or errors manually.  The raise keyword stops the control flow of the program and raises an error of a specified type. The raise keyword can also be used to re-raise the last exception that was active in the current scope. \n",
    "def divide(a, b):\n",
    "    if b == 0:\n",
    "        raise Exception (\"Cannot divide by zero\")\n",
    "    return a / b\n",
    "\n",
    "try:\n",
    "    print(divide(10, 0))\n",
    "except Exception as e:\n",
    "    print(\"Error:\", e)\n",
    "    \n",
    "#### output : Error: Cannot divide by zero"
   ]
  },
  {
   "cell_type": "code",
   "execution_count": null,
   "id": "48bbd60e-4837-463e-8588-4315f97c3569",
   "metadata": {},
   "outputs": [],
   "source": [
    "\n"
   ]
  },
  {
   "cell_type": "markdown",
   "id": "560d8f2e-706a-4715-85a4-0be7c570d4af",
   "metadata": {},
   "source": [
    "# Q5. What are the Custom Exceptions in Python? Why do we need Custom Exceptions? Explain with an example.\n",
    "\n",
    "#### Custom exceptions in Python are user-defined exceptions that can be raised and handled according to the specific needs of the program.  Custom exceptions are useful for creating more meaningful and descriptive error messages, and for distinguishing different types of errors from each other.\n",
    "\n",
    "#### To define custom exceptions in Python, we can create a new class that is derived from the built-in Exception class or any of its subclasses.\n",
    "\n",
    "class invaliderror(Exception):\n",
    "    def __init__(self, message):\n",
    "        self.mss = message\n",
    "\n",
    "def verifying_age (age):\n",
    "    if age < 0:\n",
    "        raise invaliderror(\"Age can't be negetive\")\n",
    "    elif age > 130:\n",
    "        raise invaliderror(\"Age can't be too high\")\n",
    "    else :\n",
    "        print('Age is valid')\n",
    "\n",
    "try :\n",
    "    age = int(input('Enter age: '))\n",
    "    verifying_age (age)\n",
    "except invaliderror as e:\n",
    "    print(e)"
   ]
  },
  {
   "cell_type": "code",
   "execution_count": null,
   "id": "dfc7b7e5-9990-492e-a1cb-c7e68aa9dc7c",
   "metadata": {},
   "outputs": [],
   "source": []
  },
  {
   "cell_type": "markdown",
   "id": "6663b494-55dc-48e9-b0a4-45285233fec3",
   "metadata": {},
   "source": [
    "# Q6. Create a custome exception class. Use this class to handle an exception.\n",
    "\n",
    "#### define a custom exception class\n",
    "class invaliderror(Exception):\n",
    "    def __init__(self, message):\n",
    "        self.mss = message\n",
    "#### define a function that verify age\n",
    "def verifying_age (age):\n",
    "    # if the number is negative, raise a custom exception\n",
    "    if age < 0:\n",
    "        raise invaliderror(\"Age can't be negetive\")\n",
    "    # if the number is greater than 130, raise a custom exception\n",
    "    elif age > 130:\n",
    "        raise invaliderror(\"Age can't be too high\")\n",
    "    # otherwise return the Age is valid\n",
    "    else :\n",
    "        print('Age is valid')\n",
    "#### try to check age is valid or not \n",
    "try :\n",
    "    age = int(input('Enter age: '))\n",
    "    verifying_age (age)\n",
    "except invaliderror as e:\n",
    "    # handle the custom exception\n",
    "    print(e)"
   ]
  },
  {
   "cell_type": "code",
   "execution_count": null,
   "id": "0cea0ffc-8c91-4587-bdc0-11db789d8729",
   "metadata": {},
   "outputs": [],
   "source": []
  }
 ],
 "metadata": {
  "kernelspec": {
   "display_name": "Python 3 (ipykernel)",
   "language": "python",
   "name": "python3"
  },
  "language_info": {
   "codemirror_mode": {
    "name": "ipython",
    "version": 3
   },
   "file_extension": ".py",
   "mimetype": "text/x-python",
   "name": "python",
   "nbconvert_exporter": "python",
   "pygments_lexer": "ipython3",
   "version": "3.10.8"
  }
 },
 "nbformat": 4,
 "nbformat_minor": 5
}
